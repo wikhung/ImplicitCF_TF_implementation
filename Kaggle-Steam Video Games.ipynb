{
 "cells": [
  {
   "cell_type": "code",
   "execution_count": 84,
   "metadata": {
    "collapsed": false,
    "deletable": true,
    "editable": true
   },
   "outputs": [],
   "source": [
    "# This Python 3 environment comes with many helpful analytics libraries installed\n",
    "# It is defined by the kaggle/python docker image: https://github.com/kaggle/docker-python\n",
    "# For example, here's several helpful packages to load in \n",
    "\n",
    "import numpy as np # linear algebra\n",
    "import pandas as pd # data processing, CSV file I/O (e.g. pd.read_csv)\n",
    "import tensorflow as tf\n",
    "import random\n",
    "from sklearn.metrics import roc_curve, auc, average_precision_score\n",
    "\n",
    "# Input data files are available in the \"../input/\" directory.\n",
    "# For example, running this (by clicking run or pressing Shift+Enter) will list the files in the input directory\n",
    "\n",
    "#from subprocess import check_output\n",
    "#print(check_output([\"ls\", \"../input\"]).decode(\"utf8\"))\n",
    "\n",
    "# Any results you write to the current directory are saved as output."
   ]
  },
  {
   "cell_type": "code",
   "execution_count": 2,
   "metadata": {
    "collapsed": false,
    "deletable": true,
    "editable": true
   },
   "outputs": [
    {
     "data": {
      "text/html": [
       "<div>\n",
       "<table border=\"1\" class=\"dataframe\">\n",
       "  <thead>\n",
       "    <tr style=\"text-align: right;\">\n",
       "      <th></th>\n",
       "      <th>UserID</th>\n",
       "      <th>Game</th>\n",
       "      <th>Action</th>\n",
       "      <th>Hours</th>\n",
       "      <th>Not Needed</th>\n",
       "    </tr>\n",
       "  </thead>\n",
       "  <tbody>\n",
       "    <tr>\n",
       "      <th>0</th>\n",
       "      <td>151603712</td>\n",
       "      <td>The Elder Scrolls V Skyrim</td>\n",
       "      <td>purchase</td>\n",
       "      <td>1.0</td>\n",
       "      <td>0</td>\n",
       "    </tr>\n",
       "    <tr>\n",
       "      <th>1</th>\n",
       "      <td>151603712</td>\n",
       "      <td>The Elder Scrolls V Skyrim</td>\n",
       "      <td>play</td>\n",
       "      <td>273.0</td>\n",
       "      <td>0</td>\n",
       "    </tr>\n",
       "    <tr>\n",
       "      <th>2</th>\n",
       "      <td>151603712</td>\n",
       "      <td>Fallout 4</td>\n",
       "      <td>purchase</td>\n",
       "      <td>1.0</td>\n",
       "      <td>0</td>\n",
       "    </tr>\n",
       "    <tr>\n",
       "      <th>3</th>\n",
       "      <td>151603712</td>\n",
       "      <td>Fallout 4</td>\n",
       "      <td>play</td>\n",
       "      <td>87.0</td>\n",
       "      <td>0</td>\n",
       "    </tr>\n",
       "    <tr>\n",
       "      <th>4</th>\n",
       "      <td>151603712</td>\n",
       "      <td>Spore</td>\n",
       "      <td>purchase</td>\n",
       "      <td>1.0</td>\n",
       "      <td>0</td>\n",
       "    </tr>\n",
       "  </tbody>\n",
       "</table>\n",
       "</div>"
      ],
      "text/plain": [
       "      UserID                        Game    Action  Hours  Not Needed\n",
       "0  151603712  The Elder Scrolls V Skyrim  purchase    1.0           0\n",
       "1  151603712  The Elder Scrolls V Skyrim      play  273.0           0\n",
       "2  151603712                   Fallout 4  purchase    1.0           0\n",
       "3  151603712                   Fallout 4      play   87.0           0\n",
       "4  151603712                       Spore  purchase    1.0           0"
      ]
     },
     "execution_count": 2,
     "metadata": {},
     "output_type": "execute_result"
    }
   ],
   "source": [
    "#path = '../input/steam-200k.csv'\n",
    "path = 'steam-200k.csv'\n",
    "df = pd.read_csv(path, header = None,\n",
    "                 names = ['UserID', 'Game', 'Action', 'Hours', 'Not Needed'])\n",
    "df.head()"
   ]
  },
  {
   "cell_type": "code",
   "execution_count": 3,
   "metadata": {
    "collapsed": true,
    "deletable": true,
    "editable": true
   },
   "outputs": [],
   "source": [
    "df['Hours_Played'] = df['Hours'].astype('float32')"
   ]
  },
  {
   "cell_type": "code",
   "execution_count": 4,
   "metadata": {
    "collapsed": true,
    "deletable": true,
    "editable": true
   },
   "outputs": [],
   "source": [
    "df.loc[(df['Action'] == 'purchase') & (df['Hours'] == 1.0), 'Hours_Played'] = 0"
   ]
  },
  {
   "cell_type": "code",
   "execution_count": 5,
   "metadata": {
    "collapsed": true,
    "deletable": true,
    "editable": true
   },
   "outputs": [],
   "source": [
    "df.UserID = df.UserID.astype('int')\n",
    "df = df.sort_values(['UserID', 'Game', 'Hours_Played'])"
   ]
  },
  {
   "cell_type": "code",
   "execution_count": 6,
   "metadata": {
    "collapsed": false,
    "deletable": true,
    "editable": true
   },
   "outputs": [
    {
     "data": {
      "text/html": [
       "<div>\n",
       "<table border=\"1\" class=\"dataframe\">\n",
       "  <thead>\n",
       "    <tr style=\"text-align: right;\">\n",
       "      <th></th>\n",
       "      <th>UserID</th>\n",
       "      <th>Game</th>\n",
       "      <th>Hours_Played</th>\n",
       "    </tr>\n",
       "  </thead>\n",
       "  <tbody>\n",
       "    <tr>\n",
       "      <th>65430</th>\n",
       "      <td>5250</td>\n",
       "      <td>Alien Swarm</td>\n",
       "      <td>4.9</td>\n",
       "    </tr>\n",
       "    <tr>\n",
       "      <th>65424</th>\n",
       "      <td>5250</td>\n",
       "      <td>Cities Skylines</td>\n",
       "      <td>144.0</td>\n",
       "    </tr>\n",
       "    <tr>\n",
       "      <th>65435</th>\n",
       "      <td>5250</td>\n",
       "      <td>Counter-Strike</td>\n",
       "      <td>0.0</td>\n",
       "    </tr>\n",
       "    <tr>\n",
       "      <th>65436</th>\n",
       "      <td>5250</td>\n",
       "      <td>Counter-Strike Source</td>\n",
       "      <td>0.0</td>\n",
       "    </tr>\n",
       "    <tr>\n",
       "      <th>65437</th>\n",
       "      <td>5250</td>\n",
       "      <td>Day of Defeat</td>\n",
       "      <td>0.0</td>\n",
       "    </tr>\n",
       "  </tbody>\n",
       "</table>\n",
       "</div>"
      ],
      "text/plain": [
       "       UserID                   Game  Hours_Played\n",
       "65430    5250            Alien Swarm           4.9\n",
       "65424    5250        Cities Skylines         144.0\n",
       "65435    5250         Counter-Strike           0.0\n",
       "65436    5250  Counter-Strike Source           0.0\n",
       "65437    5250          Day of Defeat           0.0"
      ]
     },
     "execution_count": 6,
     "metadata": {},
     "output_type": "execute_result"
    }
   ],
   "source": [
    "clean_df = df.drop_duplicates(['UserID', 'Game'], keep = 'last').drop(['Action', 'Hours', 'Not Needed'], axis = 1)\n",
    "clean_df.head()"
   ]
  },
  {
   "cell_type": "code",
   "execution_count": 7,
   "metadata": {
    "collapsed": false,
    "deletable": true,
    "editable": true
   },
   "outputs": [
    {
     "name": "stdout",
     "output_type": "stream",
     "text": [
      "There are 12393 users and 5155 games in the data\n"
     ]
    }
   ],
   "source": [
    "n_users = len(clean_df.UserID.unique())\n",
    "n_games = len(clean_df.Game.unique())\n",
    "\n",
    "print('There are {0} users and {1} games in the data'.format(n_users, n_games))"
   ]
  },
  {
   "cell_type": "code",
   "execution_count": 8,
   "metadata": {
    "collapsed": false,
    "deletable": true,
    "editable": true
   },
   "outputs": [
    {
     "name": "stdout",
     "output_type": "stream",
     "text": [
      "0.20% of the user-item matrix is filled\n"
     ]
    }
   ],
   "source": [
    "sparsity = clean_df.shape[0] / float(n_users * n_games)\n",
    "print('{:.2%} of the user-item matrix is filled'.format(sparsity))"
   ]
  },
  {
   "cell_type": "code",
   "execution_count": 9,
   "metadata": {
    "collapsed": true,
    "deletable": true,
    "editable": true
   },
   "outputs": [],
   "source": [
    "from collections import Counter\n",
    "\n",
    "user_counter = Counter()\n",
    "for user in clean_df.UserID.tolist():\n",
    "    user_counter[user] +=1\n",
    "\n",
    "game_counter = Counter()\n",
    "for game in clean_df.Game.tolist():\n",
    "    game_counter[game] += 1"
   ]
  },
  {
   "cell_type": "code",
   "execution_count": 10,
   "metadata": {
    "collapsed": true,
    "deletable": true,
    "editable": true
   },
   "outputs": [],
   "source": [
    "user2idx = {user: i for i, user in enumerate(user_counter.keys())}\n",
    "idx2user = {i: user for user, i in user2idx.items()}\n",
    "\n",
    "game2idx = {game: i for i, game in enumerate(game_counter.keys())}\n",
    "idx2game = {i: game for game, i in game2idx.items()}"
   ]
  },
  {
   "cell_type": "code",
   "execution_count": 11,
   "metadata": {
    "collapsed": true,
    "deletable": true,
    "editable": true
   },
   "outputs": [],
   "source": [
    "user_idx = clean_df['UserID'].apply(lambda x: user2idx[x]).values\n",
    "game_idx = clean_df['gameIdx'] = clean_df['Game'].apply(lambda x: game2idx[x]).values\n",
    "pref = np.repeat([1], clean_df.shape[0])\n",
    "hours = clean_df['Hours_Played'].values"
   ]
  },
  {
   "cell_type": "code",
   "execution_count": 12,
   "metadata": {
    "collapsed": true,
    "deletable": true,
    "editable": true
   },
   "outputs": [],
   "source": [
    "#from scipy.sparse import csr_matrix\n",
    "#user_game_matrix = csr_matrix((pref, (user_idx, game_idx)), shape = (n_users, n_games))\n",
    "#interactions_matrix = csr_matrix((hours, (user_idx, game_idx)), shape = (n_users, n_games))\n",
    "zero_matrix = np.zeros(shape = (n_users, n_games))\n",
    "user_game_pref = zero_matrix.copy()\n",
    "user_game_pref[user_idx, game_idx] = 1\n",
    "\n",
    "user_game_interactions = zero_matrix.copy()\n",
    "user_game_interactions[user_idx, game_idx] = hours + 1"
   ]
  },
  {
   "cell_type": "code",
   "execution_count": 169,
   "metadata": {
    "collapsed": false
   },
   "outputs": [
    {
     "name": "stdout",
     "output_type": "stream",
     "text": [
      "2189 users bought 10 or more games\n"
     ]
    }
   ],
   "source": [
    "k = 5\n",
    "\n",
    "# Count the number of purchases for each user\n",
    "purchase_counts = np.apply_along_axis(np.bincount, 1, user_game_pref.astype(int))\n",
    "buyers_idx = np.where(purchase_counts[:, 1] >= 2 * k)[0] #find the users who purchase 2 * k games\n",
    "print('{0} users bought {1} or more games'.format(len(buyers_idx), 2 * k))"
   ]
  },
  {
   "cell_type": "code",
   "execution_count": 170,
   "metadata": {
    "collapsed": false
   },
   "outputs": [],
   "source": [
    "test_frac = 0.4\n",
    "test_users_idx = np.random.choice(buyers_idx,\n",
    "                                  size = int(np.ceil(len(buyers_idx) * test_frac)),\n",
    "                                  replace = False)"
   ]
  },
  {
   "cell_type": "code",
   "execution_count": 171,
   "metadata": {
    "collapsed": false
   },
   "outputs": [],
   "source": [
    "val_users_idx = test_users_idx[:int(len(test_users_idx) / 2)]\n",
    "test_users_idx = test_users_idx[int(len(test_users_idx) / 2):]"
   ]
  },
  {
   "cell_type": "code",
   "execution_count": 176,
   "metadata": {
    "collapsed": false
   },
   "outputs": [],
   "source": [
    "train_matrix = user_game_pref.copy()\n",
    "test_matrix = zero_matrix.copy()\n",
    "for user in test_users_idx:\n",
    "    purchases = np.where(user_game_pref[user, :] == 1)[0]\n",
    "    test_purchases = np.random.choice(purchases, size = k, replace = False)\n",
    "    \n",
    "    train_matrix[user, test_purchases] = 0\n",
    "    test_matrix[user, test_purchases] = user_game_pref[user, test_purchases]"
   ]
  },
  {
   "cell_type": "code",
   "execution_count": 173,
   "metadata": {
    "collapsed": false
   },
   "outputs": [
    {
     "data": {
      "text/plain": [
       "array([ 1.,  1.,  1.,  1.,  1.])"
      ]
     },
     "execution_count": 173,
     "metadata": {},
     "output_type": "execute_result"
    }
   ],
   "source": [
    "test_matrix[test_users_idx[0], test_matrix[test_users_idx[0], :].nonzero()[0]]"
   ]
  },
  {
   "cell_type": "code",
   "execution_count": 174,
   "metadata": {
    "collapsed": false
   },
   "outputs": [
    {
     "data": {
      "text/plain": [
       "array([ 0.,  0.,  0.,  0.,  0.])"
      ]
     },
     "execution_count": 174,
     "metadata": {},
     "output_type": "execute_result"
    }
   ],
   "source": [
    "train_matrix[test_users_idx[0], test_matrix[test_users_idx[0], :].nonzero()[0]]"
   ]
  },
  {
   "cell_type": "code",
   "execution_count": 13,
   "metadata": {
    "collapsed": false,
    "deletable": true,
    "editable": true
   },
   "outputs": [],
   "source": [
    "#nonzero_users, nonzero_games = user_game_pref.nonzero()"
   ]
  },
  {
   "cell_type": "code",
   "execution_count": 14,
   "metadata": {
    "collapsed": true,
    "deletable": true,
    "editable": true
   },
   "outputs": [],
   "source": [
    "#nonzero_pairs = list(zip(nonzero_users, nonzero_games))"
   ]
  },
  {
   "cell_type": "code",
   "execution_count": 15,
   "metadata": {
    "collapsed": true,
    "deletable": true,
    "editable": true
   },
   "outputs": [],
   "source": [
    "#np.random.shuffle(nonzero_pairs)"
   ]
  },
  {
   "cell_type": "code",
   "execution_count": 16,
   "metadata": {
    "collapsed": true,
    "deletable": true,
    "editable": true
   },
   "outputs": [],
   "source": [
    "#test_idx = int(np.ceil(len(nonzero_pairs) * 0.4))\n",
    "#val_idx = int(np.ceil(test_idx * 0.5))"
   ]
  },
  {
   "cell_type": "code",
   "execution_count": 17,
   "metadata": {
    "collapsed": true,
    "deletable": true,
    "editable": true
   },
   "outputs": [],
   "source": [
    "#val_pairs = nonzero_pairs[:val_idx]\n",
    "#test_pairs = nonzero_pairs[val_idx:test_idx]"
   ]
  },
  {
   "cell_type": "code",
   "execution_count": 18,
   "metadata": {
    "collapsed": false,
    "deletable": true,
    "editable": true
   },
   "outputs": [],
   "source": [
    "#training_matrix = user_game_pref.copy()\n",
    "#for pair in val_pairs + test_pairs:\n",
    "#    training_matrix[pair[0], pair[1]] = 0"
   ]
  },
  {
   "cell_type": "code",
   "execution_count": 39,
   "metadata": {
    "collapsed": true
   },
   "outputs": [],
   "source": [
    "#val_users_idx = np.unique(np.asarray(val_pairs)[:, 0])\n",
    "#test_users_idx = np.unique(np.asarray(test_pairs)[:, 0])"
   ]
  },
  {
   "cell_type": "code",
   "execution_count": 238,
   "metadata": {
    "collapsed": true,
    "deletable": true,
    "editable": true
   },
   "outputs": [],
   "source": [
    "tf.reset_default_graph()\n",
    "pref = tf.placeholder(tf.float32, (n_users, n_games))\n",
    "interactions = tf.placeholder(tf.float32, (n_users, n_games))\n",
    "users_idx = tf.placeholder(tf.int32, (None))"
   ]
  },
  {
   "cell_type": "code",
   "execution_count": 239,
   "metadata": {
    "collapsed": true,
    "deletable": true,
    "editable": true
   },
   "outputs": [],
   "source": [
    "n_features = 30\n",
    "X = tf.Variable(tf.random_normal([n_users, n_features], mean = 0, stddev = 0.1))\n",
    "Y = tf.Variable(tf.random_normal([n_games, n_features], mean = 0, stddev = 0.1))\n",
    "conf_alpha = tf.Variable(tf.random_uniform([1], 0, 1))"
   ]
  },
  {
   "cell_type": "code",
   "execution_count": 240,
   "metadata": {
    "collapsed": true,
    "deletable": true,
    "editable": true
   },
   "outputs": [],
   "source": [
    "pred_pref = tf.matmul(X, Y, transpose_b=True)\n",
    "conf = 1 + conf_alpha * interactions"
   ]
  },
  {
   "cell_type": "code",
   "execution_count": 241,
   "metadata": {
    "collapsed": true,
    "deletable": true,
    "editable": true
   },
   "outputs": [],
   "source": [
    "cost = tf.reduce_sum(tf.multiply(conf, tf.square(tf.subtract(pref, pred_pref))))\n",
    "l2_sqr = tf.nn.l2_loss(X) + tf.nn.l2_loss(Y)\n",
    "lambda_c = 0.01\n",
    "loss = cost + lambda_c * l2_sqr"
   ]
  },
  {
   "cell_type": "code",
   "execution_count": 242,
   "metadata": {
    "collapsed": true,
    "deletable": true,
    "editable": true
   },
   "outputs": [],
   "source": [
    "optimize = tf.train.AdamOptimizer(0.02).minimize(loss)"
   ]
  },
  {
   "cell_type": "code",
   "execution_count": 243,
   "metadata": {
    "collapsed": true
   },
   "outputs": [],
   "source": [
    "def k_precision(pred, train, test, k, user_idx, training = False):\n",
    "    precisions = []\n",
    "    \n",
    "    \n",
    "    for user in user_idx:\n",
    "        rec = np.argsort(-pred[user, :])\n",
    "        if not training:\n",
    "            purchase_history = np.where(train[user, :] != 0)[0]\n",
    "            mat = test\n",
    "            \n",
    "            rec = rec[~np.in1d(rec, purchase_history)]\n",
    "        else:\n",
    "            mat = train\n",
    "    \n",
    "        top_k = rec[:k]\n",
    "        labels = np.where(mat[user, :] != 0)[0]\n",
    "        \n",
    "        precision = len(set(top_k) & set(labels)) / float(k)\n",
    "        precisions.append(precision)\n",
    "    return np.mean(precisions)"
   ]
  },
  {
   "cell_type": "code",
   "execution_count": 244,
   "metadata": {
    "collapsed": false,
    "deletable": true,
    "editable": true
   },
   "outputs": [
    {
     "name": "stdout",
     "output_type": "stream",
     "text": [
      "Iterations 0... Training Loss 62212232.00... Train Precision 0.021 Test Precision 0.002\n",
      "Iterations 10... Training Loss 13916562.00... Train Precision 0.380 Test Precision 0.019\n",
      "Iterations 20... Training Loss 5316009.00... Train Precision 0.329 Test Precision 0.027\n",
      "Iterations 30... Training Loss 2672846.00... Train Precision 0.315 Test Precision 0.033\n",
      "Iterations 40... Training Loss 1970542.25... Train Precision 0.352 Test Precision 0.030\n",
      "Iterations 50... Training Loss 1620559.25... Train Precision 0.375 Test Precision 0.037\n",
      "Iterations 60... Training Loss 1438968.00... Train Precision 0.383 Test Precision 0.038\n"
     ]
    }
   ],
   "source": [
    "iterations = 70\n",
    "with tf.Session() as sess:\n",
    "    sess.run(tf.global_variables_initializer())\n",
    "    \n",
    "    for i in range(iterations):\n",
    "        sess.run(optimize, feed_dict = {pref: train_matrix,\n",
    "                                        interactions: user_game_interactions})\n",
    "        \n",
    "        if i % 10 == 0:\n",
    "            mod_loss = sess.run(loss, feed_dict = {pref: train_matrix,\n",
    "                                                   interactions: user_game_interactions})            \n",
    "            mod_pred = pred_pref.eval()\n",
    "            train_precision = k_precision(mod_pred, train_matrix, test_matrix, k, test_users_idx, training = True)\n",
    "            test_precision = k_precision(mod_pred, train_matrix, test_matrix, k, test_users_idx, training = False)\n",
    "            \n",
    "            print('Iterations {0}...'.format(i),\n",
    "                  'Training Loss {:.2f}...'.format(mod_loss),\n",
    "                  'Train Precision {:.3f}'.format(train_precision),\n",
    "                  'Test Precision {:.3f}'.format(test_precision)\n",
    "                )\n",
    "\n",
    "    rec = pred_pref.eval()"
   ]
  },
  {
   "cell_type": "code",
   "execution_count": 245,
   "metadata": {
    "collapsed": false
   },
   "outputs": [],
   "source": [
    "users = np.random.choice(test_users_idx, size = 10, replace = False)\n",
    "rec_games = np.argsort(-rec)"
   ]
  },
  {
   "cell_type": "code",
   "execution_count": 246,
   "metadata": {
    "collapsed": false,
    "deletable": true,
    "editable": true
   },
   "outputs": [
    {
     "name": "stdout",
     "output_type": "stream",
     "text": [
      "Recommended Games for 86912006 are ...\n",
      "User bought these games\n",
      "Nosgoth, Divine Souls, World of Guns Gun Disassembly, Combat Arms, Canyon Capers, The Darkness II, Orborun, Uriel's Chasm, Famaze, Dungeon Party, Mabinogi, EverQuest II, Retro/Grade IGF Demo, Mount & Blade, Saints Row The Third, Dino D-Day, Coil, Arma Gold Edition, Gumboy Crazy Adventures, Make it indie!, Space Hack, S.K.I.L.L. - Special Force 2, Age of Empires Online, The Incredible Adventures of Van Helsing, War Thunder, Heavy Fire Afghanistan, Tropico 3 - Steam Special Edition, Grimoire Manastorm, CrimeCraft GangWars, Windosill, Puzzle Pirates, Sky Battles, Galactic Civilizations II Ultimate Edition, Villagers and Heroes, Heroes & Generals, Star Trek Online, PAYDAY The Web Series - Episode 1, Tropico 4, Super Crate Box, The Ship Single Player, Global Agenda, The Great Jitters Pudding Panic, Robotex, Crystal Rift, Conquest of Champions, Starlaxis Supernova Edition, Loadout, Grass Simulator, Tiny and Big Grandpa's Leftovers, The Ship, Dwarfs F2P, Gumboy Crazy Features, Tribes Ascend, Firefall, Moon Breakers, The Forgotten Ones, Dragon's Prophet (EU), Command and Conquer Red Alert 3 - Uprising, Evolution RTS, March of War, Gun Monkeys, Archeblade, RPG Maker VX Ace, District 187, Swipecart, Arma 2 Free, Crazy Machines 2, The Expendabros, Arma 3, Stronghold Kingdoms, Toribash, The Guild II Renaissance, Skyborn, City of Steam Arkadia, The Cat and the Coup, The Fish Fillets 2, Machinarium, Clickr, Ohm Studio, Worms Ultimate Mayhem, Insurgency, Glorkian Warrior The Trials Of Glork, Realm of the Mad God, Football Superstars, Guns of Icarus Online, East India Company Gold, Growing Pains, Mightier, Marvel Heroes 2015, Pox Nora, Gotham City Impostors Free To Play, America's Army 3, 8BitMMO, Arma 3 Zeus, Terrain Test, Fractured Space, Tom Clancy's Ghost Recon Phantoms - EU, Uncharted Waters Online, Rise of the Argonauts, Ragnarok, Saints Row 2, Frozen Hearth, Smashmuck Champions, Magicka, Overcast - Walden and the Werewolf, RIFT, The Bureau XCOM Declassified, Moonbase Alpha, Portal 2 Sixense Perceptual Pack, Teleglitch Die More Edition, Thinking with Time Machine, ACE - Arena Cyber Evolution, Penguins Arena Sedna's World, Reversion - The Escape, AirBuccaneers, Renaissance Heroes, Dota 2, Saints Row The Third - Initiation Station, Operation Flashpoint Red River, Arctic Combat, Sniper Elite V2, Cry of Fear, Arma 2, Alpha Prime, Mechanic Escape, EVGA PrecisionX 16, Pinball Arcade, Age of Empires II HD Edition, Guacamelee! Gold Edition, Ragnarok Online - Free to Play - European Version, Blacklight Retribution, Half-Life 2, Warlock - Master of the Arcane Powerful Lords, Defiance, Contagion, Warlock - Master of the Arcane, Adventures of Shuggy, ROSE Online, Aura Kingdom, Dragon's Prophet, Quantum Rush Online, Heroine's Quest The Herald of Ragnarok, The Lord of the Rings Online, Deadlight, EverQuest Free-to-Play, Superfrog HD, Jet Gunner, Really Big Sky, Dungeons & Dragons Online, Overlord, Panzar, Marvel Puzzle Quest, War Inc. Battlezone, The Banner Saga Factions, Clicker Heroes, Cannons Lasers Rockets, Two Worlds Epic Edition, Wickland, Worms Blast, Reus, RaceRoom Racing Experience , Warface, Saira, Borderlands 2, Face of Mankind, Serena, Soldier Front 2, Defy Gravity, ProtoGalaxy, Bullet Run, Dungeons The Eye of Draconus, Dead Bits, BIT.TRIP Presents... Runner2 Future Legend of Rhythm Alien, Forsaken World , Ionball 2  Ionstorm, Dead Island Epidemic, Only If, Fiesta Online, Unturned, Worms Pinball, Path of Exile, Rusty Hearts, Castle, America's Army Proving Grounds, Construct 2 Free, Dungeon Defenders, Trine, Blockstorm, Floating Point, SpaceChem, Anomaly Warzone Earth, The Witcher 2 Assassins of Kings Enhanced Edition, Memoir '44 Online, XCOM Enemy Unknown, Dungeonland, Knights and Merchants, Nosferatu The Wrath of Malachi, Obulis, Skara - The Blade Remains, Blob From Space, Half-Life 2 Lost Coast, Commando Jack, Trine 2, Pid , Kings Bounty Legions, You Have to Win the Game, Villagers and Heroes Hero of Stormhold Pack, Not The Robots, RACE 07, Left 4 Dead 2, Pinball FX2, Galaxy on Fire 2 Full HD, Enclave, Brawl Busters, Pandora Saga Weapons of Balance, Torchlight II, Amazing World, Sacred 2 Gold, BIT.TRIP RUNNER, Vindictus, Rush Bros, The Guild II - Pirates of the European Seas, A.V.A - Alliance of Valiant Arms, Calibre 10 Racing Series, Team Fortress 2, Solstice Arena, Post Apocalyptic Mayhem, Flashout 2, Champions Online, Magicka Wizard Wars, Rising Storm/Red Orchestra 2 Multiplayer, Dungeon Fighter Online, Between IGF Demo, Cubic Castles, The Ship Tutorial, Worms Crazy Golf, Battle Nations, Crash Time II, BioShock, Super Hexagon, Dragons and Titans, The Swapper, APB Reloaded, Sunrider Mask of Arcadius, Chains, Robocraft, Ascend Hand of Kul, Ragnarok Online 2, RPG Maker Tyler Warren First 50 Battler Pack, Fallen Earth, Dizzel, Wizardry Online, NEOTOKYO, Woodle Tree Adventures, PlanetSide 2, Super Sanctum TD, Forge, Operation Flashpoint Dragon Rising, Afterfall InSanity Extended Edition, Cakewalk Loop Manager, Take On Helicopters, Don't Starve Together Beta, Company of Heroes 2, Race The Sun, Grand Chase, Overlord Raising Hell, GunZ 2 The Second Duel, Saints Row IV Inauguration Station, The Plan, Receiver, Spiral Knights, Battle Islands, HOMEFRONT Demo, Shadow Warrior Classic (1997), Psychonauts Demo, Peggle Extreme, La Tale, Dragon Nest, Avencast, Deadlight Original Soundtrack, Garry's Mod, World of Battles, Brawlhalla, Royal Quest, Lume, ORION Prelude, Neverwinter, Rise of Incarnates, Warframe, Beatbuddy Tale of the Guardians, The Guild II, Spirits, Fistful of Frags, The Incredible Adventures of Van Helsing Thaumaturge, Happy Wars, Metro 2033, Vigil Blood Bitterness, Pirates of Black Cove Gold, Realms of the Haunting, Guns and Robots, Arma Tactics, Dethroned!, Elsword, Bloodline Champions, Super Monday Night Combat, Red Orchestra 2 Heroes of Stalingrad - Single Player, PAYDAY The Heist, Deadbreed, HAWKEN, Xam, Tom Clancy's Ghost Recon Phantoms - EU Assault Starter Pack, Orbital Gear, Age of Conan Unchained - EU version, Driftmoon, Tower Wars, Sweet Lily Dreams, Velvet Sundown, Gear Up, Magic The Gathering  Tactics, Commander Conquest of the Americas Gold, GEARCRACK Arena, MicroVolts Surge, C9, SolForge, Arcane Saga Online, Tactical Intervention, Star Conflict, Dragon Nest Europe, Lara Croft and the Guardian of Light, Counter-Strike Global Offensive, Deadbreed  Undertaker Beta Pack, Memories of a Vagabond, GTR Evolution, Frontline Tactics, Assassin's Creed Revelations, RPG Maker Royal Tiles Resource Pack, Tom Clancy's Ghost Recon Phantoms - NA, Dust An Elysian Tail, Protocol, Always Sometimes Monsters Demo, Risen 2 - Dark Waters, UFO Afterlight, Chaos Domain\n",
      "\n",
      "\n",
      "We recommend these games\n",
      "Arma 2 DayZ Mod, Dirty Bomb, No More Room in Hell, POSTAL 2, Arma 2 Operation Arrowhead Beta (Obsolete)\n",
      "\n",
      "\n",
      "The games that the user actually purchased are ...\n",
      "Weird Worlds Return to Infinite Space, RaiderZ, Atlantica Online, AXYOS, Fiesta Online NA\n",
      "\n",
      "\n",
      "Precision of 0.0\n",
      "--------------------------------------\n",
      "\n",
      "\n",
      "Recommended Games for 95911580 are ...\n",
      "User bought these games\n",
      "Hearts of Iron III, Tropico 4, Hotline Miami, Europa Universalis IV, Europa Universalis Rome - Gold Edition, Crusader Kings II Sons of Abraham, Total War ROME II - Emperor Edition, Life Is Strange, Europa Universalis IV Conquistadors Unit pack , Hearts of Iron III German II Sprite Pack, Hegemony Gold Wars of Ancient Greece, Victoria II, Europa Universalis Rome - Vae Victis, Commander Conquest of the Americas, Commander Conquest of the Americas - Pirate Treasure Chest\n",
      "\n",
      "\n",
      "We recommend these games\n",
      "Call of Duty Modern Warfare 3, Mitos.is The Game, Wargame AirLand Battle, Unturned, Call of Duty Modern Warfare 3 - Multiplayer\n",
      "\n",
      "\n",
      "The games that the user actually purchased are ...\n",
      "Crusader Kings II, The Wolf Among Us, Hegemony III Clash of the Ancients, Crusader Kings II Military Orders Unit Pack, Victoria Revolutions\n",
      "\n",
      "\n",
      "Precision of 0.0\n",
      "--------------------------------------\n",
      "\n",
      "\n",
      "Recommended Games for 70915652 are ...\n",
      "User bought these games\n",
      "NightSky, The Elder Scrolls IV Oblivion , Half-Life 2 Episode One, Company of Heroes (New Steam Version), Saints Row The Third, Bastion, LIMBO, PC Gamer, Alien Swarm, Hammerfight, Warhammer 40,000 Dawn of War II - Chaos Rising, Amnesia The Dark Descent, Dota 2, Super Meat Boy, Crayon Physics Deluxe, Plants vs. Zombies Game of the Year, Half-Life 2 Episode Two, Fallout New Vegas Dead Money, Puzzle Quest, Audiosurf, Fallout New Vegas, Company of Heroes Tales of Valor, Half-Life 2 Lost Coast, Overlord II, VVVVVV, BIT.TRIP RUNNER, Team Fortress 2, Psychonauts, Torchlight, Company of Heroes, BioShock, Lone Survivor The Director's Cut, Overlord Raising Hell, And Yet It Moves, Command and Conquer 4 Tiberian Twilight, Psychonauts Demo, Fallout New Vegas Courier's Stash, Jamestown, Gratuitous Space Battles, Portal, Shank, Metro 2033, Neverwinter Nights 2 Platinum, Superbrothers Sword & Sworcery EP, Warhammer 40,000 Dawn of War II, Company of Heroes Opposing Fronts, Braid, Cave Story+, Cogs, Fallout New Vegas Honest Hearts\n",
      "\n",
      "\n",
      "We recommend these games\n",
      "Star Wars - Battlefront II, The Mighty Quest For Epic Loot, The Binding of Isaac, Don't Starve, Killing Floor\n",
      "\n",
      "\n",
      "The games that the user actually purchased are ...\n",
      "Darksiders, Half-Life 2, Titan Quest, Overlord, Red Faction Armageddon\n",
      "\n",
      "\n",
      "Precision of 0.0\n",
      "--------------------------------------\n",
      "\n",
      "\n",
      "Recommended Games for 47500408 are ...\n",
      "User bought these games\n",
      "Zombie Panic Source, Duke Nukem Forever, Call of Duty Black Ops II, F.E.A.R. 2 Project Origin, Deus Ex Human Revolution, Half-Life 2, Half-Life 2 Lost Coast, Call of Duty Modern Warfare 2 - Multiplayer, Call of Duty Ghosts, Call of Duty Black Ops II - Multiplayer\n",
      "\n",
      "\n",
      "We recommend these games\n",
      "Half-Life 2 Deathmatch, Farming Simulator 2013, Serious Sam HD The Second Encounter, Call of Duty Black Ops III, Grand Theft Auto San Andreas\n",
      "\n",
      "\n",
      "The games that the user actually purchased are ...\n",
      "Call of Duty Modern Warfare 3, Call of Duty Ghosts - Multiplayer, Call of Duty Black Ops II - Zombies, Call of Duty Modern Warfare 2, Call of Duty Modern Warfare 3 - Multiplayer\n",
      "\n",
      "\n",
      "Precision of 0.0\n",
      "--------------------------------------\n",
      "\n",
      "\n",
      "Recommended Games for 155420511 are ...\n",
      "User bought these games\n",
      "The Culling Of The Cows, Fallout 3, TERA, CrimeCraft GangWars, The Elder Scrolls V Skyrim - Hearthfire, Tom Clancy's Ghost Recon Phantoms - EU, Dota 2, The Elder Scrolls V Skyrim - Dragonborn, The Elder Scrolls V Skyrim, Poker Night at the Inventory, Quake Live, Team Fortress 2, Might & Magic Heroes Online, Spiral Knights, Poker Night 2, Counter-Strike Global Offensive\n",
      "\n",
      "\n",
      "We recommend these games\n",
      "Portal 2, Dead Island, Neverwinter, SMITE, Left 4 Dead 2\n",
      "\n",
      "\n",
      "The games that the user actually purchased are ...\n",
      "The Elder Scrolls V Skyrim - Dawnguard, Amnesia The Dark Descent, The Witcher 2 Assassins of Kings Enhanced Edition, Skyrim High Resolution Texture Pack, Super Monday Night Combat\n",
      "\n",
      "\n",
      "Precision of 0.0\n",
      "--------------------------------------\n",
      "\n",
      "\n",
      "Recommended Games for 36978196 are ...\n",
      "User bought these games\n",
      "Counter-Strike, Tropico 3 - Steam Special Edition, Dota 2, Pro Cycling Manager 2015, Deathmatch Classic, Borderlands 2, Day of Defeat Source, Counter-Strike Condition Zero Deleted Scenes, Trine 2, Day of Defeat, Left 4 Dead 2, Age of Chivalry, Team Fortress 2, H1Z1 Test Server, Counter-Strike Source, Counter-Strike Condition Zero, Grand Theft Auto IV, Warframe, Counter-Strike Global Offensive, Ricochet\n",
      "\n",
      "\n",
      "We recommend these games\n",
      "Rust, AdVenture Capitalist, Spiral Knights, No More Room in Hell, Killing Floor\n",
      "\n",
      "\n",
      "The games that the user actually purchased are ...\n",
      "Sniper Elite V2, H1Z1, Half-Life 2 Lost Coast, PAYDAY 2, Half-Life 2 Deathmatch\n",
      "\n",
      "\n",
      "Precision of 0.0\n",
      "--------------------------------------\n",
      "\n",
      "\n",
      "Recommended Games for 9128105 are ...\n",
      "User bought these games\n",
      "Next Car Game Sneak Peek 2.0, Sid Meier's Civilization V, Divinity Original Sin, Far Cry 3, CastleStorm, Fallout 3, Alan Wake, Serious Sam HD The First Encounter, Counter-Strike, Greed Corp, Quantum Conundrum, Half-Life 2 Episode One, Company of Heroes (New Steam Version), Darksiders II, Hydrophobia Prophecy, Prototype, Dark Messiah of Might & Magic Multi-Player, DmC Devil May Cry, Hitman Absolution, Deus Ex Invisible War, Prey, Tropico 3 - Steam Special Edition, Farming Simulator 2013, Sam & Max 305 The City that Dares not Sleep, Stronghold HD, Grand Theft Auto V, Car Mechanic Simulator 2015 - Visual Tuning, The Movies Stunts and Effects, Half-Life Blue Shift, Killing Floor Mod Defence Alliance 2, Age of Empires III Complete Collection, Tropico 4, Castlevania Lords of Shadow - Ultimate Edition, Valkyria Chronicles Edy's Mission Enter the Edy Detachment, Besiege, Lego Star Wars Saga, Dead Island, Transistor, Alien Swarm, Spintires, Left 4 Dead, Mass Effect, Q.U.B.E Director's Cut, Prime World Defenders, Helicopter Simulator 2014 Search and Rescue, Command and Conquer Red Alert 3 - Uprising, F1 2012, Divinity Original Sin Enhanced Edition, Majesty Gold Edition, Command and Conquer 3 Kane's Wrath, Dragon Age II, Mad Max, Half-Life, Mass Effect 2, Machinarium, Pillars of Eternity, Of Orcs And Men, The LEGO Movie - Videogame, The Stanley Parable, Valkyria Chronicles, Warhammer 40,000 Dawn of War II - Chaos Rising, Brothers in Arms Hell's Highway, Half-Life Opposing Force, Space Engineers, Unmechanical, Car Mechanic Simulator 2015 - Youngtimer, Stronghold Crusader Extreme HD, The Lord of the Rings War in the North, Defense Grid 2 A Matter of Endurance, Dead Space, Assassin's Creed III, BeamNG.drive, RIFT, Deus Ex Human Revolution, Tales of Monkey Island Chapter 1 - Launch of the Screaming Narwhal, Transformers War for Cybertron, Tomb Raider Underworld, The Cave, Brothers - A Tale of Two Sons, Serious Sam 3 BFE, Car Mechanic Simulator 2015, Stronghold Legends, Gone Home, Mars War Logs, Dota 2, Brtal Legend, DiRT Showdown, Mirror's Edge, Defense Grid Resurgence Map Pack 1, DUNGEONS - Steam Special Edition, Defense Grid Resurgence Map Pack 2 , SpellForce Platinum Edition, Star Wars - Jedi Knight II Jedi Outcast, Alpha Protocol, Darksiders, Sniper Elite V2, Defense Grid The Awakening, Star Wars Republic Commando, Sleeping Dogs, Need for Speed Hot Pursuit, Tales of Monkey Island Chapter 4 - The Trial and Execution of Guybrush Threepwood , DiRT 2, Tales of Monkey Island Chapter 3 - Lair of the Leviathan , Valkyria Chronicles Hard EX Mode, METAL GEAR RISING REVENGEANCE, Assetto Corsa, Deathmatch Classic, Tales of Monkey Island Chapter 5 - Rise of the Pirate God, Far Cry 2 Fortunes Pack, RollerCoaster Tycoon 3 Platinum!, Half-Life 2, Titan Quest, Mafia II, Dishonored, Q.U.B.E., F1 2011, Deadlight, Midnight Club II, Overlord, Team Fortress Classic, How to Survive, Half-Life Deathmatch Source, RACE 07 - Formula RaceRoom Add-On, King Arthur Collection, Borderlands 2, Tales of Monkey Island Chapter 2 - The Siege of Spinner Cay , Valkyria Chronicles Challenge of the Edy Detachment, Plants vs. Zombies Game of the Year, Half-Life 2 Episode Two, The Elder Scrolls V Skyrim, Stronghold Crusader HD, RAGE, Kerbal Space Program, The Last Remnant, RACE On, Day of Defeat Source, Far Cry 3 Blood Dragon, You Need A Budget 4 (YNAB), Zombie Driver, Fallout 4, Dungeon Defenders, Trine, Far Cry 2, Shattered Horizon, Red Faction Guerrilla Steam Edition, Counter-Strike Condition Zero Deleted Scenes, Anomaly Warzone Earth, Next Car Game Wreckfest, The Witcher 2 Assassins of Kings Enhanced Edition, Penumbra Overture, GRID 2, XCOM Enemy Unknown, Company of Heroes Tales of Valor, Sam & Max 301 The Penal Zone, Half-Life 2 Lost Coast, The Talos Principle, The Movies, Call of Duty 4 Modern Warfare, Cities XL Platinum, Woody Two-Legs Attack of the Zombie Pirates, Trine 2, Penumbra Requiem, LEGO Worlds, Day of Defeat, Overlord II, Divinity II - The Dragon Knight Saga, World of Goo, DiRT 3, STCC The Game, Cities Skylines, Batman Arkham Origins, RACE 07, Impire, Left 4 Dead 2, Divinity II Developer's Cut, Oil Rush, Torchlight II, Wargame European Escalation, Defense Grid Resurgence Map Pack 4, Killing Floor, M.U.D. TV, Penumbra Black Plague, Team Fortress 2, Farming Simulator 15, Train Simulator, Hitman Blood Money, GRID, Half-Life Source, Shift 2 Unleashed, Dragon Age Origins, FINAL FANTASY XIII, Torchlight, Portal 2, Castle Crashers, World in Conflict, EVE Online, The Ball, Dark Souls Prepare to Die Edition, The Secret of Monkey Island Special Edition, Rag Doll Kung Fu, The Witcher Enhanced Edition, Iron Brigade, Sam & Max 303 They Stole Max's Brain!, Mark of the Ninja, Battlefield Bad Company 2, Surgeon Simulator, Command and Conquer Red Alert 3, Remember Me, Euro Truck Simulator 2 - Going East!, Prince of Persia, Counter-Strike Source, Forge, BioShock Infinite, Pirates of Black Cove, Take On Helicopters, Counter-Strike Condition Zero, World in Conflict Soviet Assault, Majesty 2, Titan Quest Immortal Throne, Overlord Raising Hell, Zeno Clash, SpellForce 2 Gold Edition, DiRT 3 Complete Edition, Command and Conquer 4 Tiberian Twilight, GRID Autosport, Deadlight Original Soundtrack, Skyrim High Resolution Texture Pack, Shadowgrounds, Defense Grid 2, Earth 2160, Stronghold 2, Farming Simulator 2011, Command and Conquer 3 Tiberium Wars, Max Payne 3, Arx Fatalis, Warframe, Ghostbusters The Video Game, Portal, Hitman Sniper Challenge, Sam & Max 304 Beyond the Alley of the Dolls, F1 2010, Metro 2033, FTL Faster Than Light, Emergency 2014, Prison Architect, Alice Madness Returns, Euro Truck Simulator 2, Superbrothers Sword & Sworcery EP, Anno 2070, The Walking Dead, Dark Messiah of Might & Magic Single Player, Sam & Max 302 The Tomb of Sammun-Mak, Evil Genius, L.A. Noire, Warhammer 40,000 Dawn of War II, Tomb Raider, Krater, DC Universe Online, Company of Heroes Opposing Fronts, Valkyria Chronicles Selveria's Mission Behind Her Blue Flame, Tomb Raider Anniversary, Just Cause 2, Majesty Gold HD, Lara Croft and the Guardian of Light, Counter-Strike Global Offensive, Cogs, Papo & Yo, Deus Ex Game of the Year Edition, Driver San Francisco, Ricochet, Half-Life 2 Deathmatch\n",
      "\n",
      "\n",
      "We recommend these games\n",
      "Duke Nukem Forever, Plague Inc Evolved, Kingdoms of Amalur Reckoning, Sniper Elite 3, Grand Theft Auto San Andreas\n",
      "\n",
      "\n",
      "The games that the user actually purchased are ...\n",
      "Defense Grid Resurgence Map Pack 3, Assassin's Creed, Spec Ops The Line, Fable - The Lost Chapters, Company of Heroes\n",
      "\n",
      "\n",
      "Precision of 0.0\n",
      "--------------------------------------\n",
      "\n",
      "\n",
      "Recommended Games for 126595775 are ...\n",
      "User bought these games\n",
      "Call of Duty Modern Warfare 3, Batman Arkham Asylum GOTY Edition, Assassin's Creed IV Black Flag, Call of Duty Black Ops II, F.E.A.R. 2 Project Origin, Realm of the Mad God, The Lord of the Rings War in the North, Mortal Kombat Kollection, Middle-earth Shadow of Mordor, Slender The Arrival, Call of Duty Ghosts - Multiplayer, Call of Duty Modern Warfare 2 - Resurgence Pack, Scribblenauts Unlimited, Call of Duty Black Ops II - Zombies, Borderlands 2, Dungeon Defenders, Call of Duty 4 Modern Warfare, Mount & Blade Warband, F.E.A.R. Perseus Mandate, DayZ, Left 4 Dead 2, Batman Arkham City GOTY, LEGO The Lord of the Rings, Call of Duty Modern Warfare 2 Stimulus Package, Call of Duty Modern Warfare 2, Call of Duty Modern Warfare 2 - Multiplayer, Call of Duty Ghosts, F.E.A.R. Extraction Point, Counter-Strike Global Offensive, Call of Duty Modern Warfare 3 - Multiplayer, Block N Load, F.E.A.R. 3\n",
      "\n",
      "\n",
      "We recommend these games\n",
      "Sniper Elite V2, Hitman Absolution, Assassin's Creed Brotherhood, Total War SHOGUN 2, Metro Last Light\n",
      "\n",
      "\n",
      "The games that the user actually purchased are ...\n",
      "Sid Meier's Civilization V, F.E.A.R., Guardians of Middle-earth, Rocket League, Call of Duty Black Ops II - Multiplayer\n",
      "\n",
      "\n",
      "Precision of 0.0\n",
      "--------------------------------------\n",
      "\n",
      "\n",
      "Recommended Games for 26762388 are ...\n",
      "User bought these games\n",
      "Penny Arcade's On the Rain-Slick Precipice of Darkness 4, Sid Meier's Civilization V, Far Cry 3, Killing Floor 2, NightSky, Heroes of Might & Magic V Tribes of the East, The Elder Scrolls IV Oblivion , Mount & Blade, Patch testing for Chivalry, Half-Life 2 Episode One, FlatOut Ultimate Carnage, Company of Heroes (New Steam Version), Saints Row The Third, The Witcher 3 Wild Hunt, Puzzle Dimension, Dark Messiah of Might & Magic Multi-Player, Gumboy Crazy Adventures, From Dust, Bastion, DmC Devil May Cry, South Park The Stick of Truth - Ultimate Fellowship Pack, Deus Ex Invisible War, Tropico 3 - Steam Special Edition, Droplitz, Batman Arkham Asylum GOTY Edition, Tom Clancy's Splinter Cell Conviction, Sid Meier's Civilization IV Beyond the Sword, Strong Bad Episode 3 Baddest of the Bands, Grand Theft Auto V, Arma 2 DayZ Mod, Crysis Warhead, Killing Floor Mod Defence Alliance 2, King Arthur - The Role-playing Wargame, Star Wars The Force Unleashed II, Tropico 4, Crimsonland, LIMBO, Assassin's Creed IV Black Flag, Portal Stories Mel, Dead Island, Eets, Strong Bad Episode 4 Dangeresque 3, Alien Swarm, Altitude, Left 4 Dead, Chivalry Medieval Warfare, Gumboy Crazy Features, Batman Arkham City, The Elder Scrolls III Morrowind, Hotline Miami, Just Cause, Strike Suit Zero, Crysis Wars, Half-Life, Blocks That Matter, Sid Meier's Civilization IV Warlords, Max Payne 2 The Fall of Max Payne, Mass Effect 2, Wolfenstein The New Order, Machinarium, Hammerfight, The Stanley Parable, Worms Ultimate Mayhem, Strong Bad Episode 5 8-Bit Is Enough, Max Payne, Papers, Please, Gunpoint, Puzzle Agent, Amnesia The Dark Descent, Prince of Persia The Sands of Time, Doc Clock The Toasted Sandwich of Time, Stronghold Crusader Extreme HD, Saints Row 2, Dead Space, Eufloria, Heroes of Might & Magic V Hammers of Fate, On the Rain-Slick Precipice of Darkness, Episode One, Deus Ex Human Revolution, Brothers - A Tale of Two Sons, Serious Sam 3 BFE, Middle-earth Shadow of Mordor, Takedown Red Sabre, The Polynomial, Battlefield 2, Dota 2, Brtal Legend, Mirror's Edge, TRAUMA, Revenge of the Titans, Mount & Blade With Fire and Sword, The Wolf Among Us, Darksiders, BioShock Infinite Burial at Sea - Episode 2, Aquaria, Sleeping Dogs, Need for Speed Hot Pursuit, Iron Grip Warlord, Hero Academy, STAR WARS Knights of the Old Republic II The Sith Lords, Warhammer 40,000 Dawn of War  Dark Crusade, Age of Empires II HD Edition, Guacamelee! Gold Edition, Far Cry 2 Fortunes Pack, Batman Arkham Asylum, Half-Life 2, Titan Quest, Mafia II, Dishonored, Shadowgrounds Survivor, Super Meat Boy, Crayon Physics Deluxe, Universe Sandbox, Frontlines Fuel of War, Small World 2, Overlord, The Chronicles of Riddick Assault on Dark Athena, Cities in Motion 2, Steel Storm Burning Retribution, Heroes of Might & Magic V, Bully Scholarship Edition, Magic 2014 , Reus, Samorost 2, ProtoGalaxy, BRAINPIPE A Plunge to Unhumanity, Plants vs. Zombies Game of the Year, Half-Life 2 Episode Two, Tropico 3 Absolute Power, The Elder Scrolls V Skyrim, Stronghold Crusader HD, Kerbal Space Program, Frozen Synapse, Fallout New Vegas Dead Money, Deus Ex Revision, Far Cry 3 Blood Dragon, Sid Meier's Civilization IV Colonization, On the Rain-Slick Precipice of Darkness, Episode Two, Jolly Rover, FINAL FANTASY VII, Crysis, Saints Row IV, Dungeon Defenders, Trine, Far Cry 2, Poker Night at the Inventory, Red Faction Guerrilla Steam Edition, Audiosurf, Penumbra Overture, Fallout New Vegas, Company of Heroes Tales of Valor, Indie Game The Movie, Half-Life 2 Lost Coast, South Park The Stick of Truth - Super Samurai Spaceman Pack, Mount & Blade Warband, Dead Rising 2, Trine 2, Assassin's Creed II, Overlord II, World of Goo, GridRunner Revolution, Batman Arkham Origins, Sid Meier's Civilization IV, Left 4 Dead 2, VVVVVV, King Arthur The Saxons, Burnout Paradise The Ultimate Box, BIT.TRIP RUNNER, Killing Floor, Team Fortress 2, Shatter, Natural Selection 2, BioShock Infinite Burial at Sea - Episode 1, Psychonauts, Kingdoms of Amalur Reckoning, Magic 2015, Plain Sight, Dragon Age Origins, Torchlight, Batman Arkham City GOTY, Portal 2, Company of Heroes, Dark Souls Prepare to Die Edition, BioShock, The Witcher 3 Wild Hunt - New Finisher Animations, Gish, HOARD, The Swapper, Borderlands, Rag Doll Kung Fu, Terraria, The Witcher Enhanced Edition, Mark of the Ninja, Battlefield Bad Company 2, BioShock Infinite - Season Pass, Surgeon Simulator, QuantZ, Worms Reloaded, Penny Arcade's On the Rain-Slick Precipice of Darkness 3, Counter-Strike Source, Warhammer 40,000 Dawn of War  Winter Assault, BioShock Infinite, Star Wars The Force Unleashed Ultimate Sith Edition, Galcon Fusion, PAYDAY 2, Titan Quest Immortal Throne, Overlord Raising Hell, Monaco, And Yet It Moves, Leviathan Warships, Sanctum 2, Psychonauts Demo, Strong Bad Episode 1 Homestar Ruiner, Skyrim High Resolution Texture Pack, Jamestown, Shadowgrounds, Grand Theft Auto IV, Grand Theft Auto San Andreas, Eufloria HD Original Soundtrack, Max Payne 3, Gratuitous Space Battles, Star Wars Jedi Knight Jedi Academy, Portal, Beat Hazard, Leviathan Warships Commonwealth Unit Pack, Metro 2033 Redux, Beatbuddy Tale of the Guardians, DogFighter, Orcs Must Die! 2, Recettear An Item Shop's Tale, Shank, Bionic Commando Rearmed, Metro 2033, FTL Faster Than Light, Dungeon Siege III, Prison Architect, Awesomenauts, Neverwinter Nights 2 Platinum, Superbrothers Sword & Sworcery EP, Tidalis, Lugaru HD , The Walking Dead, Strong Bad Episode 2 Strong Badia the Free, Dark Messiah of Might & Magic Single Player, Geometry Wars Retro Evolved, Flotilla, South Park The Stick of Truth, Worms, Eufloria HD, Metro Last Light Redux, Company of Heroes Opposing Fronts, Just Cause 2, Braid, Far Cry, Cave Story+, Prince of Persia The Forgotten Sands, Counter-Strike Global Offensive, Cogs, Fallout New Vegas Honest Hearts, Antichamber, Osmos, Deus Ex Game of the Year Edition, The Binding of Isaac, Arma 2 Operation Arrowhead, Bionic Commando, Star Wars Knights of the Old Republic, Assassin's Creed Revelations, King Arthur The Druids, Warhammer 40,000 Dawn of War - Game of the Year Edition, Arma 2 Operation Arrowhead Beta (Obsolete), Goat Simulator, Atom Zombie Smasher \n",
      "\n",
      "\n",
      "We recommend these games\n",
      "Cities Skylines, Neverwinter, Tomb Raider, Aliens vs. Predator, Pillars of Eternity\n",
      "\n",
      "\n",
      "The games that the user actually purchased are ...\n",
      "Arma 2, Thief Deadly Shadows, Hitman Blood Money, Rome Total War, Garry's Mod\n",
      "\n",
      "\n",
      "Precision of 0.0\n",
      "--------------------------------------\n",
      "\n",
      "\n",
      "Recommended Games for 80119032 are ...\n",
      "User bought these games\n",
      "NightSky, Space Hack, Dead Island, The Expendabros, Hammerfight, Super Meat Boy, Crayon Physics Deluxe, Left 4 Dead 2, VVVVVV, Team Fortress 2, Jamestown, Shank, PAYDAY The Heist\n",
      "\n",
      "\n",
      "We recommend these games\n",
      "Dead Island Riptide, Killing Floor, NARUTO SHIPPUDEN Ultimate Ninja STORM 3 Full Burst, DARK SOULS II, Don't Starve\n",
      "\n",
      "\n",
      "The games that the user actually purchased are ...\n",
      "Firefall, BIT.TRIP RUNNER, Alien Breed 2 Assault, And Yet It Moves, Cogs\n",
      "\n",
      "\n",
      "Precision of 0.0\n",
      "--------------------------------------\n",
      "\n",
      "\n"
     ]
    }
   ],
   "source": [
    "for user in users:\n",
    "    print('Recommended Games for {0} are ...'.format(idx2user[user]))\n",
    "    purchase_history = np.where(train_matrix[user, :] != 0)[0]\n",
    "    recommendations = rec_games[user, :]\n",
    "\n",
    "    \n",
    "    new_recommendations = recommendations[~np.in1d(recommendations, purchase_history)][:k]\n",
    "    \n",
    "    #ground_truth = clean_df[clean_df['UserID'] == idx2user[user]]['gameIdx'].values\n",
    "    print('User bought these games')\n",
    "    print(', '.join([idx2game[purchase] for purchase in purchase_history.tolist()]))\n",
    "    print('\\n')\n",
    "    print('We recommend these games')\n",
    "    print(', '.join([idx2game[game] for game in new_recommendations]))\n",
    "    print('\\n')\n",
    "    print('The games that the user actually purchased are ...')\n",
    "    print(', '.join([idx2game[game] for game in np.where(test_matrix[user, :] != 0)[0]]))\n",
    "    print('\\n')\n",
    "    print('Precision of {0}'.format(len(set(new_recommendations) & set(np.where(test_matrix[user, :] != 0)[0])) / float(k)))\n",
    "    print('--------------------------------------')\n",
    "    print('\\n')"
   ]
  },
  {
   "cell_type": "code",
   "execution_count": null,
   "metadata": {
    "collapsed": true
   },
   "outputs": [],
   "source": []
  }
 ],
 "metadata": {
  "kernelspec": {
   "display_name": "Python 3",
   "language": "python",
   "name": "python3"
  },
  "language_info": {
   "codemirror_mode": {
    "name": "ipython",
    "version": 3
   },
   "file_extension": ".py",
   "mimetype": "text/x-python",
   "name": "python",
   "nbconvert_exporter": "python",
   "pygments_lexer": "ipython3",
   "version": "3.5.3"
  }
 },
 "nbformat": 4,
 "nbformat_minor": 0
}
